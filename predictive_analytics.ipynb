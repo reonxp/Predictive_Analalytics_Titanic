{
  "cells": [
    {
      "cell_type": "markdown",
      "metadata": {
        "id": "SPMlvMrAFweL"
      },
      "source": [
        "## **Predictive Analytics Terhadap Peristiwa Titanic**\n",
        "\n",
        "Proyek ini bertujuan untuk menganalisis faktor-faktor yang berkontribusi terhadap peluang seorang penumpang untuk selamat dari tragedi. Masalah ini relevan untuk dipelajari karena dapat memberikan wawasan tentang pola keselamatan dan pengambilan keputusan di situasi darurat."
      ]
    },
    {
      "cell_type": "markdown",
      "metadata": {
        "id": "m64evdAyG9fx"
      },
      "source": [
        "## **Import Library**"
      ]
    },
    {
      "cell_type": "code",
      "execution_count": null,
      "metadata": {
        "id": "SS7-MR6LHHDx"
      },
      "outputs": [],
      "source": [
        "import pandas as pd\n",
        "import numpy as np\n",
        "import matplotlib.pyplot as plt\n",
        "import seaborn as sns\n",
        "\n",
        "from sklearn.model_selection import train_test_split\n",
        "from sklearn.preprocessing import StandardScaler, MinMaxScaler\n",
        "from sklearn.metrics import classification_report, confusion_matrix, accuracy_score\n",
        "from sklearn.ensemble import RandomForestClassifier, GradientBoostingClassifier\n",
        "from sklearn.linear_model import LogisticRegression\n",
        "from sklearn.neighbors import KNeighborsClassifier\n",
        "from sklearn.tree import DecisionTreeClassifier\n",
        "from sklearn.svm import SVC\n",
        "from sklearn.naive_bayes import GaussianNB\n",
        "from sklearn.cluster import KMeans\n",
        "from sklearn.pipeline import Pipeline\n",
        "from sklearn.decomposition import PCA\n",
        "import plotly.express as px\n",
        "\n",
        "# For Deep Learning\n",
        "import tensorflow as tf\n",
        "from tensorflow import keras\n",
        "from tensorflow.keras.models import Sequential\n",
        "from tensorflow.keras.layers import Dense, Dropout\n"
      ]
    },
    {
      "cell_type": "markdown",
      "metadata": {
        "id": "aMCXrtjqHfGc"
      },
      "source": [
        "## **Loading Dataset**"
      ]
    },
    {
      "cell_type": "code",
      "execution_count": null,
      "metadata": {
        "id": "ZTTN4QvWFvKy",
        "colab": {
          "base_uri": "https://localhost:8080/"
        },
        "outputId": "dd0788ad-3ed0-4682-f8c6-fc3f5b2f9b4e"
      },
      "outputs": [
        {
          "output_type": "stream",
          "name": "stdout",
          "text": [
            "Data Titanic:\n",
            "   survived  pclass     sex   age  sibsp  parch     fare embarked  class  \\\n",
            "0         0       3    male  22.0      1      0   7.2500        S  Third   \n",
            "1         1       1  female  38.0      1      0  71.2833        C  First   \n",
            "2         1       3  female  26.0      0      0   7.9250        S  Third   \n",
            "3         1       1  female  35.0      1      0  53.1000        S  First   \n",
            "4         0       3    male  35.0      0      0   8.0500        S  Third   \n",
            "\n",
            "     who  adult_male deck  embark_town alive  alone  \n",
            "0    man        True  NaN  Southampton    no  False  \n",
            "1  woman       False    C    Cherbourg   yes  False  \n",
            "2  woman       False  NaN  Southampton   yes   True  \n",
            "3  woman       False    C  Southampton   yes  False  \n",
            "4    man        True  NaN  Southampton    no   True  \n"
          ]
        }
      ],
      "source": [
        "data = sns.load_dataset('titanic')\n",
        "\n",
        "print(\"Data Titanic:\")\n",
        "print(data.head())"
      ]
    },
    {
      "cell_type": "markdown",
      "source": [
        "## **Exploratory Data Analysis**"
      ],
      "metadata": {
        "id": "B0NurNzZmsJK"
      }
    },
    {
      "cell_type": "code",
      "source": [
        "print(\"Deskripsi Data:\")\n",
        "print(data.describe(include='all'))\n",
        "print(\"\\nInfo Data:\")\n",
        "print(data.info())"
      ],
      "metadata": {
        "colab": {
          "base_uri": "https://localhost:8080/"
        },
        "id": "zH18XROsmwlF",
        "outputId": "74dc88c6-ddc3-49a5-be9a-84b9714e7bb2"
      },
      "execution_count": null,
      "outputs": [
        {
          "output_type": "stream",
          "name": "stdout",
          "text": [
            "Deskripsi Data:\n",
            "          survived      pclass   sex         age       sibsp       parch  \\\n",
            "count   891.000000  891.000000   891  714.000000  891.000000  891.000000   \n",
            "unique         NaN         NaN     2         NaN         NaN         NaN   \n",
            "top            NaN         NaN  male         NaN         NaN         NaN   \n",
            "freq           NaN         NaN   577         NaN         NaN         NaN   \n",
            "mean      0.383838    2.308642   NaN   29.699118    0.523008    0.381594   \n",
            "std       0.486592    0.836071   NaN   14.526497    1.102743    0.806057   \n",
            "min       0.000000    1.000000   NaN    0.420000    0.000000    0.000000   \n",
            "25%       0.000000    2.000000   NaN   20.125000    0.000000    0.000000   \n",
            "50%       0.000000    3.000000   NaN   28.000000    0.000000    0.000000   \n",
            "75%       1.000000    3.000000   NaN   38.000000    1.000000    0.000000   \n",
            "max       1.000000    3.000000   NaN   80.000000    8.000000    6.000000   \n",
            "\n",
            "              fare embarked  class  who adult_male deck  embark_town alive  \\\n",
            "count   891.000000      889    891  891        891  203          889   891   \n",
            "unique         NaN        3      3    3          2    7            3     2   \n",
            "top            NaN        S  Third  man       True    C  Southampton    no   \n",
            "freq           NaN      644    491  537        537   59          644   549   \n",
            "mean     32.204208      NaN    NaN  NaN        NaN  NaN          NaN   NaN   \n",
            "std      49.693429      NaN    NaN  NaN        NaN  NaN          NaN   NaN   \n",
            "min       0.000000      NaN    NaN  NaN        NaN  NaN          NaN   NaN   \n",
            "25%       7.910400      NaN    NaN  NaN        NaN  NaN          NaN   NaN   \n",
            "50%      14.454200      NaN    NaN  NaN        NaN  NaN          NaN   NaN   \n",
            "75%      31.000000      NaN    NaN  NaN        NaN  NaN          NaN   NaN   \n",
            "max     512.329200      NaN    NaN  NaN        NaN  NaN          NaN   NaN   \n",
            "\n",
            "       alone  \n",
            "count    891  \n",
            "unique     2  \n",
            "top     True  \n",
            "freq     537  \n",
            "mean     NaN  \n",
            "std      NaN  \n",
            "min      NaN  \n",
            "25%      NaN  \n",
            "50%      NaN  \n",
            "75%      NaN  \n",
            "max      NaN  \n",
            "\n",
            "Info Data:\n",
            "<class 'pandas.core.frame.DataFrame'>\n",
            "RangeIndex: 891 entries, 0 to 890\n",
            "Data columns (total 15 columns):\n",
            " #   Column       Non-Null Count  Dtype   \n",
            "---  ------       --------------  -----   \n",
            " 0   survived     891 non-null    int64   \n",
            " 1   pclass       891 non-null    int64   \n",
            " 2   sex          891 non-null    object  \n",
            " 3   age          714 non-null    float64 \n",
            " 4   sibsp        891 non-null    int64   \n",
            " 5   parch        891 non-null    int64   \n",
            " 6   fare         891 non-null    float64 \n",
            " 7   embarked     889 non-null    object  \n",
            " 8   class        891 non-null    category\n",
            " 9   who          891 non-null    object  \n",
            " 10  adult_male   891 non-null    bool    \n",
            " 11  deck         203 non-null    category\n",
            " 12  embark_town  889 non-null    object  \n",
            " 13  alive        891 non-null    object  \n",
            " 14  alone        891 non-null    bool    \n",
            "dtypes: bool(2), category(2), float64(2), int64(4), object(5)\n",
            "memory usage: 80.7+ KB\n",
            "None\n"
          ]
        }
      ]
    },
    {
      "cell_type": "markdown",
      "source": [
        "## **Exploratory Data Analysis**"
      ],
      "metadata": {
        "id": "8X3kxwh1dY92"
      }
    },
    {
      "cell_type": "code",
      "source": [
        "# Mengecek nilai yang hilang di setiap kolom\n",
        "print(\"Nilai yang Hilang:\")\n",
        "print(data.isnull().sum())\n",
        "\n",
        "# Mengisi nilai yang hilang\n",
        "data['age'] = data['age'].fillna(data['age'].mean())  # Menggunakan pengisian tanpa inplace\n",
        "data['embarked'] = data['embarked'].fillna(data['embarked'].mode()[0])  # Menggunakan pengisian tanpa inplace\n",
        "\n",
        "# Cek jika kolom 'deck' ada, lalu mengisinya\n",
        "if 'deck' in data.columns:\n",
        "    # Jika deck ada, pastikan ini di-cast ke object agar 'Unknown' bisa diterima\n",
        "    data['deck'] = data['deck'].astype(str).fillna('Unknown')\n",
        "\n",
        "data['embark_town'] = data['embark_town'].fillna('Unknown')  # Menggunakan pengisian tanpa inplace\n",
        "\n",
        "# Menghapus kolom yang sudah tidak ada diperlukan\n",
        "data.drop(columns=['deck'], inplace=True, errors='ignore')\n",
        "data.dropna(inplace=True)  # Hanya jika masih ada nilai hilang yang tersisa\n",
        "\n",
        "print(\"Nilai yang Hilang Setelah Ditangani:\")\n",
        "print(data.isnull().sum())"
      ],
      "metadata": {
        "colab": {
          "base_uri": "https://localhost:8080/"
        },
        "id": "gQaBghW3m2Pq",
        "outputId": "0fc2eb69-c9c6-47f5-bc33-9accf86542a8"
      },
      "execution_count": null,
      "outputs": [
        {
          "output_type": "stream",
          "name": "stdout",
          "text": [
            "Nilai yang Hilang:\n",
            "survived         0\n",
            "pclass           0\n",
            "sex              0\n",
            "age            177\n",
            "sibsp            0\n",
            "parch            0\n",
            "fare             0\n",
            "embarked         2\n",
            "class            0\n",
            "who              0\n",
            "adult_male       0\n",
            "deck           688\n",
            "embark_town      2\n",
            "alive            0\n",
            "alone            0\n",
            "dtype: int64\n",
            "Nilai yang Hilang Setelah Ditangani:\n",
            "survived       0\n",
            "pclass         0\n",
            "sex            0\n",
            "age            0\n",
            "sibsp          0\n",
            "parch          0\n",
            "fare           0\n",
            "embarked       0\n",
            "class          0\n",
            "who            0\n",
            "adult_male     0\n",
            "embark_town    0\n",
            "alive          0\n",
            "alone          0\n",
            "dtype: int64\n"
          ]
        }
      ]
    },
    {
      "cell_type": "markdown",
      "source": [
        "## **Exploratory Data Analysis - Univariate Analysis**"
      ],
      "metadata": {
        "id": "8pHLU_gDd7aO"
      }
    },
    {
      "cell_type": "code",
      "source": [
        "# Visualisasi distribusi umur\n",
        "plt.figure(figsize=(12, 6))\n",
        "sns.histplot(data['age'], bins=30, kde=True)\n",
        "plt.title('Distribusi Umur Penumpang')\n",
        "plt.xlabel('Umur')\n",
        "plt.ylabel('Frekuensi')\n",
        "plt.show()"
      ],
      "metadata": {
        "colab": {
          "base_uri": "https://localhost:8080/",
          "height": 564
        },
        "id": "bEudsMdUd-bJ",
        "outputId": "acf1c3bf-bd9f-491b-ec0d-bd12856d24e6"
      },
      "execution_count": null,
      "outputs": [
        {
          "output_type": "display_data",
          "data": {
            "text/plain": [
              "<Figure size 1200x600 with 1 Axes>"
            ],
            "image/png": "[encoded data removed]"
          },
          "metadata": {}
        }
      ]
    },
    {
      "cell_type": "markdown",
      "source": [
        "## **Exploratory Data Analysis - Multivariate Analysis**"
      ],
      "metadata": {
        "id": "s-sDwpPbeJjd"
      }
    },
    {
      "cell_type": "code",
      "source": [
        "# Visualisasi rasio kelangsungan hidup berdasarkan jenis kelamin\n",
        "plt.figure(figsize=(8, 6))\n",
        "sns.barplot(x='sex', y='survived', data=data)\n",
        "plt.title('Rasio Kelangsungan Hidup berdasarkan Jenis Kelamin')\n",
        "plt.ylabel('Rasio Kelangsungan Hidup')\n",
        "plt.xlabel('Jenis Kelamin')\n",
        "plt.show()"
      ],
      "metadata": {
        "colab": {
          "base_uri": "https://localhost:8080/",
          "height": 564
        },
        "id": "jj99SfPfeJVX",
        "outputId": "a332e937-6c57-4304-8c59-b21524efe45d"
      },
      "execution_count": null,
      "outputs": [
        {
          "output_type": "display_data",
          "data": {
            "text/plain": [
              "<Figure size 800x600 with 1 Axes>"
            ],
            "image/png": "[encoded data removed]"
          },
          "metadata": {}
        }
      ]
    },
    {
      "cell_type": "markdown",
      "source": [
        "## **Data Preparation**"
      ],
      "metadata": {
        "id": "-YD_FA7scmYl"
      }
    },
    {
      "cell_type": "code",
      "source": [
        "# Mengonversi kolom kategorikal menjadi dummy variables\n",
        "data = pd.get_dummies(data, columns=['sex', 'embarked', 'pclass', 'embark_town'], drop_first=True)\n",
        "\n",
        "# Memeriksa kolom yang ada di dalam DataFrame\n",
        "print(\"Kolom yang ada dalam DataFrame:\")\n",
        "print(data.columns)\n",
        "\n",
        "# Memisahkan fitur dan label\n",
        "features_to_drop = ['survived', 'name', 'ticket', 'passenger_id']\n",
        "# Hanya simpan kolom yang ada dalam daftar untuk dihapus\n",
        "features_to_drop = [col for col in features_to_drop if col in data.columns]\n",
        "\n",
        "X = data.drop(columns=features_to_drop)  # Menghapus kolom yang relevan\n",
        "y = data['survived']  # Menyimpan kolom label"
      ],
      "metadata": {
        "colab": {
          "base_uri": "https://localhost:8080/"
        },
        "id": "Is88SbRjahgy",
        "outputId": "e8ccfd0a-4b54-4a95-b9f7-359a6b245461"
      },
      "execution_count": null,
      "outputs": [
        {
          "output_type": "stream",
          "name": "stdout",
          "text": [
            "Kolom yang ada dalam DataFrame:\n",
            "Index(['survived', 'age', 'sibsp', 'parch', 'fare', 'class', 'who',\n",
            "       'adult_male', 'alive', 'alone', 'sex_male', 'embarked_Q', 'embarked_S',\n",
            "       'pclass_2', 'pclass_3', 'embark_town_Queenstown',\n",
            "       'embark_town_Southampton', 'embark_town_Unknown'],\n",
            "      dtype='object')\n"
          ]
        }
      ]
    },
    {
      "cell_type": "code",
      "source": [
        "# Konversi kolom kategorikal 'class', 'who', dan 'alive' ke dummy variables\n",
        "columns_to_convert = ['class', 'who', 'alive']\n",
        "data = pd.get_dummies(data, columns=columns_to_convert, drop_first=True)\n",
        "\n",
        "# Memisahkan fitur dan label kembali\n",
        "features_to_drop = ['survived', 'name', 'ticket', 'passenger_id']\n",
        "features_to_drop = [col for col in features_to_drop if col in data.columns]\n",
        "X = data.drop(columns=features_to_drop)\n",
        "y = data['survived']\n",
        "\n",
        "# Cek tipe data fitur X lagi setelah konversi\n",
        "print(\"Tipe data dari fitur X setelah konversi:\")\n",
        "print(X.dtypes)"
      ],
      "metadata": {
        "colab": {
          "base_uri": "https://localhost:8080/"
        },
        "id": "DWBtA5-nfrgW",
        "outputId": "055d51c8-2e75-4764-d51c-d803a7b0f4e1"
      },
      "execution_count": null,
      "outputs": [
        {
          "output_type": "stream",
          "name": "stdout",
          "text": [
            "Tipe data dari fitur X setelah konversi:\n",
            "age                        float64\n",
            "sibsp                        int64\n",
            "parch                        int64\n",
            "fare                       float64\n",
            "adult_male                    bool\n",
            "alone                         bool\n",
            "sex_male                      bool\n",
            "embarked_Q                    bool\n",
            "embarked_S                    bool\n",
            "pclass_2                      bool\n",
            "pclass_3                      bool\n",
            "embark_town_Queenstown        bool\n",
            "embark_town_Southampton       bool\n",
            "embark_town_Unknown           bool\n",
            "class_Second                  bool\n",
            "class_Third                   bool\n",
            "who_man                       bool\n",
            "who_woman                     bool\n",
            "alive_yes                     bool\n",
            "dtype: object\n"
          ]
        }
      ]
    },
    {
      "cell_type": "markdown",
      "source": [
        "## **Data Split**"
      ],
      "metadata": {
        "id": "YyswS4T5fJCP"
      }
    },
    {
      "cell_type": "code",
      "source": [
        "X_train, X_test, y_train, y_test = train_test_split(X, y, test_size=0.2, random_state=42)"
      ],
      "metadata": {
        "id": "KxQd9_lkcogc"
      },
      "execution_count": null,
      "outputs": []
    },
    {
      "cell_type": "markdown",
      "metadata": {
        "id": "4L-KtQYYK_Jm"
      },
      "source": [
        "## **Model Development Random Forerst**"
      ]
    },
    {
      "cell_type": "code",
      "source": [
        "# Model K-Nearest Neighbors\n",
        "knn = KNeighborsClassifier(n_neighbors=5)\n",
        "knn.fit(X_train, y_train)\n",
        "\n",
        "# Prediksi\n",
        "knn_predictions = knn.predict(X_test)\n",
        "\n",
        "# Evaluasi\n",
        "print(f\"Akurasi K-Nearest Neighbors: {accuracy_score(y_test, knn_predictions):.2f}\")\n",
        "print(\"Laporan Klasifikasi KNN:\\n\", classification_report(y_test, knn_predictions))"
      ],
      "metadata": {
        "colab": {
          "base_uri": "https://localhost:8080/"
        },
        "id": "lKzTGJ9YoWgW",
        "outputId": "605e3d69-05ad-458b-ca9f-57471cb8d27a"
      },
      "execution_count": null,
      "outputs": [
        {
          "output_type": "stream",
          "name": "stdout",
          "text": [
            "Akurasi K-Nearest Neighbors: 0.77\n",
            "Laporan Klasifikasi KNN:\n",
            "               precision    recall  f1-score   support\n",
            "\n",
            "           0       0.75      0.90      0.82       105\n",
            "           1       0.81      0.57      0.67        74\n",
            "\n",
            "    accuracy                           0.77       179\n",
            "   macro avg       0.78      0.74      0.74       179\n",
            "weighted avg       0.77      0.77      0.76       179\n",
            "\n"
          ]
        }
      ]
    },
    {
      "cell_type": "code",
      "source": [
        "# Model Random Forest\n",
        "rf = RandomForestClassifier(n_estimators=100, random_state=42)\n",
        "rf.fit(X_train, y_train)\n",
        "\n",
        "# Prediksi\n",
        "rf_predictions = rf.predict(X_test)\n",
        "\n",
        "# Evaluasi\n",
        "print(f\"Akurasi Random Forest: {accuracy_score(y_test, rf_predictions):.2f}\")\n",
        "print(\"Laporan Klasifikasi Random Forest:\\n\", classification_report(y_test, rf_predictions))"
      ],
      "metadata": {
        "colab": {
          "base_uri": "https://localhost:8080/"
        },
        "id": "8c2cu-uzfclX",
        "outputId": "fd64d065-5fca-492d-cb36-5163258a5476"
      },
      "execution_count": null,
      "outputs": [
        {
          "output_type": "stream",
          "name": "stdout",
          "text": [
            "Akurasi Random Forest: 1.00\n",
            "Laporan Klasifikasi Random Forest:\n",
            "               precision    recall  f1-score   support\n",
            "\n",
            "           0       1.00      1.00      1.00       105\n",
            "           1       1.00      1.00      1.00        74\n",
            "\n",
            "    accuracy                           1.00       179\n",
            "   macro avg       1.00      1.00      1.00       179\n",
            "weighted avg       1.00      1.00      1.00       179\n",
            "\n"
          ]
        }
      ]
    },
    {
      "cell_type": "code",
      "source": [
        "# Model Boosting dengan Gradient Boosting\n",
        "gb = GradientBoostingClassifier(n_estimators=100, random_state=42)\n",
        "gb.fit(X_train, y_train)\n",
        "\n",
        "# Prediksi\n",
        "gb_predictions = gb.predict(X_test)\n",
        "\n",
        "# Evaluasi\n",
        "print(f\"Akurasi Gradient Boosting: {accuracy_score(y_test, gb_predictions):.2f}\")\n",
        "print(\"Laporan Klasifikasi Gradient Boosting:\\n\", classification_report(y_test, gb_predictions))"
      ],
      "metadata": {
        "colab": {
          "base_uri": "https://localhost:8080/"
        },
        "id": "a8h6u3dqgipT",
        "outputId": "8023adb7-9c0c-4c28-b29e-8394112676b1"
      },
      "execution_count": null,
      "outputs": [
        {
          "output_type": "stream",
          "name": "stdout",
          "text": [
            "Akurasi Gradient Boosting: 1.00\n",
            "Laporan Klasifikasi Gradient Boosting:\n",
            "               precision    recall  f1-score   support\n",
            "\n",
            "           0       1.00      1.00      1.00       105\n",
            "           1       1.00      1.00      1.00        74\n",
            "\n",
            "    accuracy                           1.00       179\n",
            "   macro avg       1.00      1.00      1.00       179\n",
            "weighted avg       1.00      1.00      1.00       179\n",
            "\n"
          ]
        }
      ]
    },
    {
      "cell_type": "markdown",
      "metadata": {
        "id": "57NwgFDiNEdU"
      },
      "source": [
        "## **Evaluasi Model**"
      ]
    },
    {
      "cell_type": "code",
      "execution_count": null,
      "metadata": {
        "id": "gmfDzd8tNWXN",
        "colab": {
          "base_uri": "https://localhost:8080/"
        },
        "outputId": "464aba06-1a5b-4d5f-e6d4-9ac024ae885f"
      },
      "outputs": [
        {
          "output_type": "stream",
          "name": "stdout",
          "text": [
            "Akurasi Semua Model:\n",
            "KNN: 0.77\n",
            "Random Forest: 1.00\n",
            "Gradient Boosting: 1.00\n"
          ]
        }
      ],
      "source": [
        "# Membandingkan akurasi dari semua model\n",
        "accuracies = {\n",
        "    'KNN': accuracy_score(y_test, knn_predictions),\n",
        "    'Random Forest': accuracy_score(y_test, rf_predictions),\n",
        "    'Gradient Boosting': accuracy_score(y_test, gb_predictions)\n",
        "}\n",
        "\n",
        "print(\"Akurasi Semua Model:\")\n",
        "for model, accuracy in accuracies.items():\n",
        "    print(f\"{model}: {accuracy:.2f}\")"
      ]
    }
  ],
  "metadata": {
    "colab": {
      "provenance": []
    },
    "kernelspec": {
      "display_name": "Python 3",
      "name": "python3"
    },
    "language_info": {
      "name": "python"
    }
  },
  "nbformat": 4,
  "nbformat_minor": 0
}